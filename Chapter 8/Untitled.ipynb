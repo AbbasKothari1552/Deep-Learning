{
 "cells": [
  {
   "cell_type": "markdown",
   "id": "d5f14185-5eba-4cad-a915-cbce272f2044",
   "metadata": {},
   "source": [
    "# Convolutional Neural Network (CNN): Birds VS Airplane"
   ]
  },
  {
   "cell_type": "code",
   "execution_count": 1,
   "id": "24b029c2-6c60-46ab-addc-22efe93c6441",
   "metadata": {},
   "outputs": [],
   "source": [
    "import torch\n",
    "from torchvision import datasets, transforms\n",
    "from matplotlib import pyplot as plt"
   ]
  },
  {
   "cell_type": "markdown",
   "id": "f6e812f5-4016-45ff-bad0-e430f62d59bb",
   "metadata": {},
   "source": [
    "## Load Data"
   ]
  },
  {
   "cell_type": "code",
   "execution_count": 2,
   "id": "848b24ac-728b-4a9e-8f85-7369aa960a9e",
   "metadata": {},
   "outputs": [],
   "source": [
    "data_path = \"../Chapter 7/Dataset/\"\n",
    "\n",
    "# train\n",
    "cifar10 = datasets.CIFAR10(data_path,\n",
    "                           train=True,\n",
    "                           download=False,\n",
    "                           transform=transforms.Compose([ \n",
    "                               transforms.ToTensor(),\n",
    "                               transforms.Normalize((0.4914, 0.4822, 0.4465),\n",
    "                                                   (0.2470, 0.2435, 0.2616))\n",
    "                           ]))\n",
    "\n",
    "# test\n",
    "cifar10_val = datasets.CIFAR10(data_path,\n",
    "                               train=False,\n",
    "                               download=False,\n",
    "                               transform=transforms.Compose([ \n",
    "                                   transforms.ToTensor(),\n",
    "                                   transforms.Normalize(mean=(0.4914, 0.4822, 0.4465),\n",
    "                                                       std=(0.2470, 0.2435, 0.2616))\n",
    "                               ]))"
   ]
  },
  {
   "cell_type": "markdown",
   "id": "9a516532-2558-4e2f-ac64-ea8807b8f421",
   "metadata": {},
   "source": [
    "## Convert into Binary Dataset"
   ]
  },
  {
   "cell_type": "code",
   "execution_count": 3,
   "id": "f6a07d2a-c982-4217-8792-196643e2ad2c",
   "metadata": {},
   "outputs": [],
   "source": [
    "label_map = {0:0, 2:1}\n",
    "class_name = ['airplane', 'bird']"
   ]
  },
  {
   "cell_type": "code",
   "execution_count": 4,
   "id": "b347891e-d4f9-4520-a41f-82ae94945597",
   "metadata": {},
   "outputs": [],
   "source": [
    "cifar2 = [(img, label_map[label])\n",
    "          for img, label in cifar10\n",
    "          if label in [0, 2]]\n",
    "cifar2_val = [(img, label_map[label])\n",
    "              for img, label in cifar10_val\n",
    "              if label in [0, 2]]"
   ]
  },
  {
   "cell_type": "markdown",
   "id": "6276701c-d1c4-4530-8a61-41b94e126fad",
   "metadata": {},
   "source": [
    "# Convolutional Neural Network (CNN)"
   ]
  },
  {
   "cell_type": "code",
   "execution_count": 5,
   "id": "fdeaf4ca-1efb-4d3f-8a77-5030cea16f51",
   "metadata": {},
   "outputs": [],
   "source": [
    "import torch.nn as nn"
   ]
  },
  {
   "cell_type": "code",
   "execution_count": 6,
   "id": "47748730-aa2f-4b7a-88b2-987ec2a573c9",
   "metadata": {},
   "outputs": [
    {
     "data": {
      "text/plain": [
       "Conv2d(3, 16, kernel_size=(3, 3), stride=(1, 1))"
      ]
     },
     "execution_count": 6,
     "metadata": {},
     "output_type": "execute_result"
    }
   ],
   "source": [
    "conv = nn.Conv2d(3, 16, kernel_size=3)\n",
    "\n",
    "conv"
   ]
  },
  {
   "cell_type": "code",
   "execution_count": 7,
   "id": "29eaecb5-19aa-4b56-87da-71bc2404f3b0",
   "metadata": {},
   "outputs": [
    {
     "name": "stdout",
     "output_type": "stream",
     "text": [
      "torch.Size([16, 3, 3, 3])\n",
      "torch.Size([16])\n"
     ]
    }
   ],
   "source": [
    "print(conv.weight.shape)\n",
    "print(conv.bias.shape)"
   ]
  },
  {
   "cell_type": "code",
   "execution_count": 8,
   "id": "e45b5c7f-16df-4409-a90c-7c922cb94309",
   "metadata": {},
   "outputs": [
    {
     "data": {
      "text/plain": [
       "tensor([[[ 0.1039, -0.0518, -0.1635],\n",
       "         [ 0.1226, -0.1565, -0.1062],\n",
       "         [ 0.0856,  0.1415,  0.1327]],\n",
       "\n",
       "        [[-0.0805,  0.0590,  0.0992],\n",
       "         [ 0.1629, -0.0657, -0.0124],\n",
       "         [ 0.0117,  0.0593, -0.0602]],\n",
       "\n",
       "        [[-0.0056,  0.1630,  0.0082],\n",
       "         [ 0.0699,  0.0972,  0.1259],\n",
       "         [-0.1475, -0.1664,  0.1893]]], grad_fn=<SelectBackward0>)"
      ]
     },
     "execution_count": 8,
     "metadata": {},
     "output_type": "execute_result"
    }
   ],
   "source": [
    "conv.weight[0]"
   ]
  },
  {
   "cell_type": "markdown",
   "id": "6c9d6540-ff1a-4805-8899-739d47d6d3d4",
   "metadata": {},
   "source": [
    "#### Visualize"
   ]
  },
  {
   "cell_type": "code",
   "execution_count": 9,
   "id": "d75abea4-3dd1-4763-b856-9023806ecac0",
   "metadata": {},
   "outputs": [],
   "source": [
    "img, _ = cifar2[0]"
   ]
  },
  {
   "cell_type": "code",
   "execution_count": 10,
   "id": "3a40934d-4cac-46f2-80bd-a04c9c9d426e",
   "metadata": {},
   "outputs": [
    {
     "name": "stdout",
     "output_type": "stream",
     "text": [
      "torch.Size([1, 3, 32, 32])\n",
      "torch.Size([1, 16, 30, 30])\n"
     ]
    }
   ],
   "source": [
    "output = conv(img.unsqueeze(0))\n",
    "\n",
    "print(img.unsqueeze(0).shape)\n",
    "print(output.shape)"
   ]
  },
  {
   "cell_type": "code",
   "execution_count": 11,
   "id": "23ded0b9-81b6-4fe1-a5df-5940c614c93b",
   "metadata": {},
   "outputs": [
    {
     "data": {
      "image/png": "[encoded data removed]",
      "text/plain": [
       "<Figure size 640x480 with 1 Axes>"
      ]
     },
     "metadata": {},
     "output_type": "display_data"
    }
   ],
   "source": [
    "plt.imshow(output[0, 0].detach())\n",
    "plt.imshow(img.unsqueeze(0)[0, 0].detach())\n",
    "plt.show()"
   ]
  },
  {
   "cell_type": "code",
   "execution_count": 12,
   "id": "486a6d48-87e0-4c7c-8c15-6d96ac6bc9a1",
   "metadata": {},
   "outputs": [
    {
     "data": {
      "image/png": "[encoded data removed]",
      "text/plain": [
       "<Figure size 1000x500 with 2 Axes>"
      ]
     },
     "metadata": {},
     "output_type": "display_data"
    }
   ],
   "source": [
    "output_image = output[0, 0].detach()\n",
    "input_image = img.unsqueeze(0)[0, 0].detach()\n",
    "\n",
    "# Create subplots\n",
    "fig, axes = plt.subplots(1, 2, figsize=(10, 5))  # 1 row, 2 columns for side-by-side images\n",
    "\n",
    "# Display the first image with a label\n",
    "axes[0].imshow(output_image, cmap='gray')  # Add cmap='gray' for grayscale images\n",
    "axes[0].set_title('Output Image')         # Set title\n",
    "axes[0].axis('off')                       # Remove axis for better visualization\n",
    "\n",
    "# Display the second image with a label\n",
    "axes[1].imshow(input_image, cmap='gray')\n",
    "axes[1].set_title('Input Image')\n",
    "axes[1].axis('off')\n",
    "\n",
    "# Show the plot\n",
    "plt.tight_layout()  # Adjust spacing between subplots\n",
    "plt.show()"
   ]
  },
  {
   "cell_type": "markdown",
   "id": "524b1f18-f90c-4a51-97d8-a5082a71dd7a",
   "metadata": {},
   "source": [
    "### Experimenting with weights & Bias"
   ]
  },
  {
   "cell_type": "code",
   "execution_count": 13,
   "id": "625f7e6e-4657-4919-993a-74918a61fe1e",
   "metadata": {},
   "outputs": [],
   "source": [
    "with torch.no_grad():\n",
    "    conv.bias.zero_()\n",
    "\n",
    "with torch.no_grad():\n",
    "    conv.weight.fill_(1.0 / 9.0)"
   ]
  },
  {
   "cell_type": "code",
   "execution_count": 14,
   "id": "94829d11-d888-4aaf-b165-1e8e12966167",
   "metadata": {
    "scrolled": true
   },
   "outputs": [
    {
     "data": {
      "text/plain": [
       "(Parameter containing:\n",
       " tensor([[[[0.1111, 0.1111, 0.1111],\n",
       "           [0.1111, 0.1111, 0.1111],\n",
       "           [0.1111, 0.1111, 0.1111]],\n",
       " \n",
       "          [[0.1111, 0.1111, 0.1111],\n",
       "           [0.1111, 0.1111, 0.1111],\n",
       "           [0.1111, 0.1111, 0.1111]],\n",
       " \n",
       "          [[0.1111, 0.1111, 0.1111],\n",
       "           [0.1111, 0.1111, 0.1111],\n",
       "           [0.1111, 0.1111, 0.1111]]],\n",
       " \n",
       " \n",
       "         [[[0.1111, 0.1111, 0.1111],\n",
       "           [0.1111, 0.1111, 0.1111],\n",
       "           [0.1111, 0.1111, 0.1111]],\n",
       " \n",
       "          [[0.1111, 0.1111, 0.1111],\n",
       "           [0.1111, 0.1111, 0.1111],\n",
       "           [0.1111, 0.1111, 0.1111]],\n",
       " \n",
       "          [[0.1111, 0.1111, 0.1111],\n",
       "           [0.1111, 0.1111, 0.1111],\n",
       "           [0.1111, 0.1111, 0.1111]]],\n",
       " \n",
       " \n",
       "         [[[0.1111, 0.1111, 0.1111],\n",
       "           [0.1111, 0.1111, 0.1111],\n",
       "           [0.1111, 0.1111, 0.1111]],\n",
       " \n",
       "          [[0.1111, 0.1111, 0.1111],\n",
       "           [0.1111, 0.1111, 0.1111],\n",
       "           [0.1111, 0.1111, 0.1111]],\n",
       " \n",
       "          [[0.1111, 0.1111, 0.1111],\n",
       "           [0.1111, 0.1111, 0.1111],\n",
       "           [0.1111, 0.1111, 0.1111]]],\n",
       " \n",
       " \n",
       "         [[[0.1111, 0.1111, 0.1111],\n",
       "           [0.1111, 0.1111, 0.1111],\n",
       "           [0.1111, 0.1111, 0.1111]],\n",
       " \n",
       "          [[0.1111, 0.1111, 0.1111],\n",
       "           [0.1111, 0.1111, 0.1111],\n",
       "           [0.1111, 0.1111, 0.1111]],\n",
       " \n",
       "          [[0.1111, 0.1111, 0.1111],\n",
       "           [0.1111, 0.1111, 0.1111],\n",
       "           [0.1111, 0.1111, 0.1111]]],\n",
       " \n",
       " \n",
       "         [[[0.1111, 0.1111, 0.1111],\n",
       "           [0.1111, 0.1111, 0.1111],\n",
       "           [0.1111, 0.1111, 0.1111]],\n",
       " \n",
       "          [[0.1111, 0.1111, 0.1111],\n",
       "           [0.1111, 0.1111, 0.1111],\n",
       "           [0.1111, 0.1111, 0.1111]],\n",
       " \n",
       "          [[0.1111, 0.1111, 0.1111],\n",
       "           [0.1111, 0.1111, 0.1111],\n",
       "           [0.1111, 0.1111, 0.1111]]],\n",
       " \n",
       " \n",
       "         [[[0.1111, 0.1111, 0.1111],\n",
       "           [0.1111, 0.1111, 0.1111],\n",
       "           [0.1111, 0.1111, 0.1111]],\n",
       " \n",
       "          [[0.1111, 0.1111, 0.1111],\n",
       "           [0.1111, 0.1111, 0.1111],\n",
       "           [0.1111, 0.1111, 0.1111]],\n",
       " \n",
       "          [[0.1111, 0.1111, 0.1111],\n",
       "           [0.1111, 0.1111, 0.1111],\n",
       "           [0.1111, 0.1111, 0.1111]]],\n",
       " \n",
       " \n",
       "         [[[0.1111, 0.1111, 0.1111],\n",
       "           [0.1111, 0.1111, 0.1111],\n",
       "           [0.1111, 0.1111, 0.1111]],\n",
       " \n",
       "          [[0.1111, 0.1111, 0.1111],\n",
       "           [0.1111, 0.1111, 0.1111],\n",
       "           [0.1111, 0.1111, 0.1111]],\n",
       " \n",
       "          [[0.1111, 0.1111, 0.1111],\n",
       "           [0.1111, 0.1111, 0.1111],\n",
       "           [0.1111, 0.1111, 0.1111]]],\n",
       " \n",
       " \n",
       "         [[[0.1111, 0.1111, 0.1111],\n",
       "           [0.1111, 0.1111, 0.1111],\n",
       "           [0.1111, 0.1111, 0.1111]],\n",
       " \n",
       "          [[0.1111, 0.1111, 0.1111],\n",
       "           [0.1111, 0.1111, 0.1111],\n",
       "           [0.1111, 0.1111, 0.1111]],\n",
       " \n",
       "          [[0.1111, 0.1111, 0.1111],\n",
       "           [0.1111, 0.1111, 0.1111],\n",
       "           [0.1111, 0.1111, 0.1111]]],\n",
       " \n",
       " \n",
       "         [[[0.1111, 0.1111, 0.1111],\n",
       "           [0.1111, 0.1111, 0.1111],\n",
       "           [0.1111, 0.1111, 0.1111]],\n",
       " \n",
       "          [[0.1111, 0.1111, 0.1111],\n",
       "           [0.1111, 0.1111, 0.1111],\n",
       "           [0.1111, 0.1111, 0.1111]],\n",
       " \n",
       "          [[0.1111, 0.1111, 0.1111],\n",
       "           [0.1111, 0.1111, 0.1111],\n",
       "           [0.1111, 0.1111, 0.1111]]],\n",
       " \n",
       " \n",
       "         [[[0.1111, 0.1111, 0.1111],\n",
       "           [0.1111, 0.1111, 0.1111],\n",
       "           [0.1111, 0.1111, 0.1111]],\n",
       " \n",
       "          [[0.1111, 0.1111, 0.1111],\n",
       "           [0.1111, 0.1111, 0.1111],\n",
       "           [0.1111, 0.1111, 0.1111]],\n",
       " \n",
       "          [[0.1111, 0.1111, 0.1111],\n",
       "           [0.1111, 0.1111, 0.1111],\n",
       "           [0.1111, 0.1111, 0.1111]]],\n",
       " \n",
       " \n",
       "         [[[0.1111, 0.1111, 0.1111],\n",
       "           [0.1111, 0.1111, 0.1111],\n",
       "           [0.1111, 0.1111, 0.1111]],\n",
       " \n",
       "          [[0.1111, 0.1111, 0.1111],\n",
       "           [0.1111, 0.1111, 0.1111],\n",
       "           [0.1111, 0.1111, 0.1111]],\n",
       " \n",
       "          [[0.1111, 0.1111, 0.1111],\n",
       "           [0.1111, 0.1111, 0.1111],\n",
       "           [0.1111, 0.1111, 0.1111]]],\n",
       " \n",
       " \n",
       "         [[[0.1111, 0.1111, 0.1111],\n",
       "           [0.1111, 0.1111, 0.1111],\n",
       "           [0.1111, 0.1111, 0.1111]],\n",
       " \n",
       "          [[0.1111, 0.1111, 0.1111],\n",
       "           [0.1111, 0.1111, 0.1111],\n",
       "           [0.1111, 0.1111, 0.1111]],\n",
       " \n",
       "          [[0.1111, 0.1111, 0.1111],\n",
       "           [0.1111, 0.1111, 0.1111],\n",
       "           [0.1111, 0.1111, 0.1111]]],\n",
       " \n",
       " \n",
       "         [[[0.1111, 0.1111, 0.1111],\n",
       "           [0.1111, 0.1111, 0.1111],\n",
       "           [0.1111, 0.1111, 0.1111]],\n",
       " \n",
       "          [[0.1111, 0.1111, 0.1111],\n",
       "           [0.1111, 0.1111, 0.1111],\n",
       "           [0.1111, 0.1111, 0.1111]],\n",
       " \n",
       "          [[0.1111, 0.1111, 0.1111],\n",
       "           [0.1111, 0.1111, 0.1111],\n",
       "           [0.1111, 0.1111, 0.1111]]],\n",
       " \n",
       " \n",
       "         [[[0.1111, 0.1111, 0.1111],\n",
       "           [0.1111, 0.1111, 0.1111],\n",
       "           [0.1111, 0.1111, 0.1111]],\n",
       " \n",
       "          [[0.1111, 0.1111, 0.1111],\n",
       "           [0.1111, 0.1111, 0.1111],\n",
       "           [0.1111, 0.1111, 0.1111]],\n",
       " \n",
       "          [[0.1111, 0.1111, 0.1111],\n",
       "           [0.1111, 0.1111, 0.1111],\n",
       "           [0.1111, 0.1111, 0.1111]]],\n",
       " \n",
       " \n",
       "         [[[0.1111, 0.1111, 0.1111],\n",
       "           [0.1111, 0.1111, 0.1111],\n",
       "           [0.1111, 0.1111, 0.1111]],\n",
       " \n",
       "          [[0.1111, 0.1111, 0.1111],\n",
       "           [0.1111, 0.1111, 0.1111],\n",
       "           [0.1111, 0.1111, 0.1111]],\n",
       " \n",
       "          [[0.1111, 0.1111, 0.1111],\n",
       "           [0.1111, 0.1111, 0.1111],\n",
       "           [0.1111, 0.1111, 0.1111]]],\n",
       " \n",
       " \n",
       "         [[[0.1111, 0.1111, 0.1111],\n",
       "           [0.1111, 0.1111, 0.1111],\n",
       "           [0.1111, 0.1111, 0.1111]],\n",
       " \n",
       "          [[0.1111, 0.1111, 0.1111],\n",
       "           [0.1111, 0.1111, 0.1111],\n",
       "           [0.1111, 0.1111, 0.1111]],\n",
       " \n",
       "          [[0.1111, 0.1111, 0.1111],\n",
       "           [0.1111, 0.1111, 0.1111],\n",
       "           [0.1111, 0.1111, 0.1111]]]], requires_grad=True),\n",
       " Parameter containing:\n",
       " tensor([0., 0., 0., 0., 0., 0., 0., 0., 0., 0., 0., 0., 0., 0., 0., 0.],\n",
       "        requires_grad=True))"
      ]
     },
     "execution_count": 14,
     "metadata": {},
     "output_type": "execute_result"
    }
   ],
   "source": [
    "conv.weight, conv.bias"
   ]
  },
  {
   "cell_type": "markdown",
   "id": "8844554c-a526-4e54-873b-4e19363e0b7a",
   "metadata": {},
   "source": [
    "#### Visualize impact on image"
   ]
  },
  {
   "cell_type": "code",
   "execution_count": 15,
   "id": "dd18caf9-ee4d-4a0c-9801-a96c4dabb325",
   "metadata": {},
   "outputs": [
    {
     "data": {
      "image/png": "[encoded data removed]",
      "text/plain": [
       "<Figure size 640x480 with 1 Axes>"
      ]
     },
     "metadata": {},
     "output_type": "display_data"
    }
   ],
   "source": [
    "output = conv(img.unsqueeze(0))\n",
    "\n",
    "plt.imshow(output[0, 0].detach(), cmap='gray')\n",
    "plt.show()"
   ]
  },
  {
   "cell_type": "code",
   "execution_count": 16,
   "id": "30fa85ab-0930-49eb-8880-dbb2aee0ba63",
   "metadata": {},
   "outputs": [],
   "source": [
    "# 2nd experiment\n",
    "conv = nn.Conv2d(3, 1, kernel_size=3, padding=1)\n",
    "\n",
    "with torch.no_grad():\n",
    "    conv.weight[:] = torch.tensor([[-1.0, 0.0, 1.0],\n",
    "                                   [-1.0, 0.0, 1.0],\n",
    "                                   [-1.0, 0.0, 1.0]])\n",
    "    conv.bias.zero_()"
   ]
  },
  {
   "cell_type": "code",
   "execution_count": 17,
   "id": "7a1cbe3d-1bbd-4318-9472-5eacccf43990",
   "metadata": {},
   "outputs": [
    {
     "data": {
      "image/png": "[encoded data removed]",
      "text/plain": [
       "<Figure size 640x480 with 1 Axes>"
      ]
     },
     "metadata": {},
     "output_type": "display_data"
    }
   ],
   "source": [
    "output = conv(img.unsqueeze(0))\n",
    "\n",
    "plt.imshow(output[0, 0].detach(), cmap='gray')\n",
    "plt.show()"
   ]
  },
  {
   "cell_type": "markdown",
   "id": "275cf3cf-74ee-4baf-aa54-97a6a3edb052",
   "metadata": {},
   "source": [
    "## Create nn Submodule"
   ]
  },
  {
   "cell_type": "code",
   "execution_count": 18,
   "id": "5bfbeee0-da57-467b-8c9d-86cbf24c6813",
   "metadata": {},
   "outputs": [],
   "source": [
    "class Net(nn.Module):\n",
    "\n",
    "    def __init__(self):\n",
    "        super().__init__()\n",
    "\n",
    "        self.conv1 = nn.Conv2d(3, 16, kernel_size=3, padding=1)\n",
    "        self.act1 = nn.Tanh()\n",
    "        self.pool1 = nn.MaxPool2d(2)\n",
    "        self.conv2 = nn.Conv2d(16, 8, kernel_size=3, padding=1)\n",
    "        self.act2 = nn.Tanh()\n",
    "        self.pool2 = nn.MaxPool2d(2)\n",
    "        # fully connected layer\n",
    "        self.fc1 = nn.Linear(8 * 8 * 8, 32)\n",
    "        self.act3 = nn.Tanh()\n",
    "        self.fc2 = nn.Linear(32, 2)\n",
    "\n",
    "    def forward(self, x):\n",
    "        # conv layer 1\n",
    "        conv = self.conv1(x)\n",
    "        act = self.act1(conv)\n",
    "        out = self.pool1(act)\n",
    "        # conv layer 2\n",
    "        conv = self.conv2(out)\n",
    "        act = self.act2(conv)\n",
    "        out = self.pool2(act)\n",
    "        # reshape into linear vector\n",
    "        out = out.view(-1, 8 * 8 * 8)\n",
    "        # FNN layer 1\n",
    "        fc = self.fc1(out)\n",
    "        out = self.act3(fc)\n",
    "        # FNN layer 2\n",
    "        out = self.fc2(out)\n",
    "\n",
    "        return out\n",
    "\n"
   ]
  },
  {
   "cell_type": "code",
   "execution_count": 19,
   "id": "c0da2f0e-15f5-454e-a467-7cae4a8626fc",
   "metadata": {},
   "outputs": [],
   "source": [
    "# call model\n",
    "model = Net()"
   ]
  },
  {
   "cell_type": "code",
   "execution_count": 20,
   "id": "e430c13e-c3d9-447e-9743-083077c21429",
   "metadata": {},
   "outputs": [
    {
     "name": "stdout",
     "output_type": "stream",
     "text": [
      "18090\n",
      "[432, 16, 1152, 8, 16384, 32, 64, 2]\n"
     ]
    }
   ],
   "source": [
    "numel_list = [p.numel() for p in model.parameters()]\n",
    "\n",
    "print(sum(numel_list))\n",
    "print(numel_list)"
   ]
  },
  {
   "cell_type": "markdown",
   "id": "b92d5b24-c24d-4b6b-93be-76543372df4d",
   "metadata": {},
   "source": [
    "Check model runs properly"
   ]
  },
  {
   "cell_type": "code",
   "execution_count": 21,
   "id": "6199b5d2-6ede-4706-bc96-838c664a2670",
   "metadata": {},
   "outputs": [
    {
     "data": {
      "text/plain": [
       "tensor([[-0.0138, -0.0629]], grad_fn=<AddmmBackward0>)"
      ]
     },
     "execution_count": 21,
     "metadata": {},
     "output_type": "execute_result"
    }
   ],
   "source": [
    "model = Net()\n",
    "model(img.unsqueeze(0))"
   ]
  },
  {
   "cell_type": "code",
   "execution_count": 29,
   "id": "603b7833-46b9-4627-9cb2-94462c9017e7",
   "metadata": {},
   "outputs": [
    {
     "name": "stdout",
     "output_type": "stream",
     "text": [
      "Training on device cuda.\n"
     ]
    }
   ],
   "source": [
    "device = (torch.device('cuda') if torch.cuda.is_available() else torch.device('cpu'))\n",
    "print(f\"Training on device {device}.\")"
   ]
  },
  {
   "cell_type": "markdown",
   "id": "e9bfe9a7-3b81-4a72-aed0-8dda7e71f617",
   "metadata": {},
   "source": [
    "## Training our convnet"
   ]
  },
  {
   "cell_type": "code",
   "execution_count": 30,
   "id": "89c5602d-a035-4aaa-8ba0-10824046bc1f",
   "metadata": {},
   "outputs": [],
   "source": [
    "import torch.optim as optim\n",
    "\n",
    "# Define all parameters\n",
    "n_epochs = 100\n",
    "learning_rate = 1e-2\n",
    "\n",
    "# model\n",
    "model = Net()\n",
    "model.to(device)\n",
    "\n",
    "# loss function\n",
    "loss_fn = nn.CrossEntropyLoss()\n",
    "\n",
    "# optimizer\n",
    "optimizer = optim.SGD(model.parameters(), lr=learning_rate)"
   ]
  },
  {
   "cell_type": "code",
   "execution_count": 23,
   "id": "7d54f480-22cb-491e-91da-bade5c313f67",
   "metadata": {},
   "outputs": [],
   "source": [
    "from torch.utils.data import Dataset, DataLoader\n",
    "\n",
    "batch_size = 64\n",
    "train_loader = DataLoader(cifar2, batch_size=batch_size, shuffle=True)\n",
    "test_loader = DataLoader(cifar2_val, batch_size=batch_size, shuffle=False)"
   ]
  },
  {
   "cell_type": "code",
   "execution_count": 33,
   "id": "c08f280c-1272-4a20-a136-a69f7b94f009",
   "metadata": {},
   "outputs": [],
   "source": [
    "import datetime\n",
    "\n",
    "def training_loop(n_epochs, optimizer, model, loss_fn, train_loader):\n",
    "\n",
    "    for epoch in range(1, n_epochs+1):\n",
    "        loss_train = 0.0\n",
    "\n",
    "        for batch_img, batch_label in train_loader:\n",
    "\n",
    "            # move to gpu\n",
    "            batch_img = batch_img.to(device)\n",
    "            batch_label = batch_label.to(device)\n",
    "\n",
    "            outputs = model(batch_img)\n",
    "\n",
    "            loss = loss_fn(outputs, batch_label)\n",
    "\n",
    "            optimizer.zero_grad()\n",
    "\n",
    "            loss.backward()\n",
    "\n",
    "            optimizer.step()\n",
    "\n",
    "            loss_train += loss.item()\n",
    "\n",
    "        if epoch == 1 or epoch % 10 == 0:\n",
    "            print(f\"{datetime.datetime.now()} Epoch:{epoch}, Training loss {loss_train/ len(train_loader)}\")"
   ]
  },
  {
   "cell_type": "code",
   "execution_count": 34,
   "id": "78df3aa9-cb6a-4d72-af4b-132309f27b10",
   "metadata": {},
   "outputs": [
    {
     "name": "stdout",
     "output_type": "stream",
     "text": [
      "2025-01-21 13:48:18.752845 Epoch:1, Training loss 0.5456858622800013\n",
      "2025-01-21 13:48:22.163990 Epoch:10, Training loss 0.3277852932928474\n",
      "2025-01-21 13:48:26.422088 Epoch:20, Training loss 0.28622519039804006\n",
      "2025-01-21 13:48:30.575972 Epoch:30, Training loss 0.26320530626044913\n",
      "2025-01-21 13:48:32.428935 Epoch:40, Training loss 0.2438484908194299\n",
      "2025-01-21 13:48:36.312695 Epoch:50, Training loss 0.22904230046803783\n",
      "2025-01-21 13:48:40.043998 Epoch:60, Training loss 0.21272154736101248\n",
      "2025-01-21 13:48:43.704685 Epoch:70, Training loss 0.19753842587303963\n",
      "2025-01-21 13:48:47.671138 Epoch:80, Training loss 0.18327256695480104\n",
      "2025-01-21 13:48:51.326212 Epoch:90, Training loss 0.17135232860210595\n",
      "2025-01-21 13:48:55.030930 Epoch:100, Training loss 0.15346266829948516\n"
     ]
    }
   ],
   "source": [
    "# call training loop\n",
    "training_loop(\n",
    "    n_epochs= n_epochs,\n",
    "    optimizer=optimizer,\n",
    "    model=model,\n",
    "    loss_fn=loss_fn,\n",
    "    train_loader=train_loader,\n",
    ")"
   ]
  },
  {
   "cell_type": "markdown",
   "id": "d70800ba-350f-4554-967e-7d3121ab4f38",
   "metadata": {},
   "source": [
    "##  Measuring accuracy"
   ]
  },
  {
   "cell_type": "code",
   "execution_count": 35,
   "id": "932a7228-768a-4f60-870c-424f5b03f7c9",
   "metadata": {},
   "outputs": [],
   "source": [
    "def validate(model, train_loader, test_loader):\n",
    "\n",
    "    for name, loader in [(\"train\", train_loader), (\"test\", test_loader)]:\n",
    "        correct = 0\n",
    "        total = 0\n",
    "\n",
    "        with torch.no_grad():\n",
    "            for batch_img, batch_label in loader:\n",
    "\n",
    "                # move to gpu\n",
    "                batch_img = batch_img.to(device)\n",
    "                batch_label = batch_label.to(device)\n",
    "                \n",
    "                outputs = model(batch_img)\n",
    "                _, predicted = torch.max(outputs, dim=1)\n",
    "                total += batch_label.shape[0]\n",
    "                correct += int((predicted == batch_label).sum())\n",
    "\n",
    "        print(f\"Accuracy {name}: {correct / total:.2f}\")"
   ]
  },
  {
   "cell_type": "code",
   "execution_count": 36,
   "id": "62f4ac1e-303d-4729-920d-9e1d992fa43c",
   "metadata": {},
   "outputs": [
    {
     "name": "stdout",
     "output_type": "stream",
     "text": [
      "Accuracy train: 0.93\n",
      "Accuracy test: 0.88\n"
     ]
    }
   ],
   "source": [
    "validate(\n",
    "    model=model,\n",
    "    train_loader=train_loader,\n",
    "    test_loader=test_loader,\n",
    ")"
   ]
  },
  {
   "cell_type": "markdown",
   "id": "264a39cb-0db8-42a2-97a9-b1a4d65d0f2c",
   "metadata": {},
   "source": [
    "### Save model"
   ]
  },
  {
   "cell_type": "code",
   "execution_count": 37,
   "id": "eaa1496d-3331-4231-bbe4-c85986dfce4f",
   "metadata": {},
   "outputs": [],
   "source": [
    "torch.save(model.state_dict(), 'birds_vs_airplanes.pt')"
   ]
  },
  {
   "cell_type": "code",
   "execution_count": 39,
   "id": "a80633b8-7fbc-46d6-8184-15554b8bd9f0",
   "metadata": {},
   "outputs": [
    {
     "name": "stderr",
     "output_type": "stream",
     "text": [
      "/tmp/ipykernel_500/831531318.py:3: FutureWarning: You are using `torch.load` with `weights_only=False` (the current default value), which uses the default pickle module implicitly. It is possible to construct malicious pickle data which will execute arbitrary code during unpickling (See https://github.com/pytorch/pytorch/blob/main/SECURITY.md#untrusted-models for more details). In a future release, the default value for `weights_only` will be flipped to `True`. This limits the functions that could be executed during unpickling. Arbitrary objects will no longer be allowed to be loaded via this mode unless they are explicitly allowlisted by the user via `torch.serialization.add_safe_globals`. We recommend you start setting `weights_only=True` for any use case where you don't have full control of the loaded file. Please open an issue on GitHub for any issues related to this experimental feature.\n",
      "  loaded_model.load_state_dict(torch.load('birds_vs_airplanes.pt'))\n"
     ]
    },
    {
     "data": {
      "text/plain": [
       "<All keys matched successfully>"
      ]
     },
     "execution_count": 39,
     "metadata": {},
     "output_type": "execute_result"
    }
   ],
   "source": [
    "loaded_model = Net()\n",
    "\n",
    "loaded_model.load_state_dict(torch.load('birds_vs_airplanes.pt'))"
   ]
  },
  {
   "cell_type": "code",
   "execution_count": null,
   "id": "32a78af9-dbc9-4357-812c-fc4e348ac67a",
   "metadata": {},
   "outputs": [],
   "source": []
  }
 ],
 "metadata": {
  "kernelspec": {
   "display_name": "Python (rapids-24.10)",
   "language": "python",
   "name": "base"
  },
  "language_info": {
   "codemirror_mode": {
    "name": "ipython",
    "version": 3
   },
   "file_extension": ".py",
   "mimetype": "text/x-python",
   "name": "python",
   "nbconvert_exporter": "python",
   "pygments_lexer": "ipython3",
   "version": "3.10.15"
  }
 },
 "nbformat": 4,
 "nbformat_minor": 5
}
