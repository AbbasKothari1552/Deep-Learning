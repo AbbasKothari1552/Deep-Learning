{
 "cells": [
  {
   "cell_type": "markdown",
   "id": "b49b06d4-dc82-4c4d-b99b-b06e6d751f38",
   "metadata": {},
   "source": [
    "# Diving in Image recognition with `CIFAR-10` Dataset"
   ]
  },
  {
   "cell_type": "markdown",
   "id": "10085eb8-b7fe-49cc-9e99-7fb7d9b8e010",
   "metadata": {},
   "source": [
    "### Download CIFAR-10"
   ]
  },
  {
   "cell_type": "code",
   "execution_count": 1,
   "id": "776dab9b-6174-4463-855c-8056aaa8946e",
   "metadata": {},
   "outputs": [],
   "source": [
    "import torch\n",
    "from torchvision import datasets, transforms\n",
    "from matplotlib import pyplot as plt"
   ]
  },
  {
   "cell_type": "code",
   "execution_count": 2,
   "id": "50aedd04-2100-454c-8ab5-2df56251823d",
   "metadata": {},
   "outputs": [
    {
     "name": "stdout",
     "output_type": "stream",
     "text": [
      "Files already downloaded and verified\n",
      "Files already downloaded and verified\n"
     ]
    }
   ],
   "source": [
    "# If not downloaded it will download to the path provided\n",
    "data_path = 'Dataset/'\n",
    "cifar10 = datasets.CIFAR10(data_path, train=True, download=True)\n",
    "cifar10_val = datasets.CIFAR10(data_path, train=False, download=True)"
   ]
  },
  {
   "cell_type": "code",
   "execution_count": 3,
   "id": "aad0e06f-1e09-446f-ba5d-54bfbd29aaeb",
   "metadata": {},
   "outputs": [
    {
     "data": {
      "text/plain": [
       "50000"
      ]
     },
     "execution_count": 3,
     "metadata": {},
     "output_type": "execute_result"
    }
   ],
   "source": [
    "len(cifar10)"
   ]
  },
  {
   "cell_type": "code",
   "execution_count": 4,
   "id": "16ea97f5-55ba-4918-8b89-bca84de3ae51",
   "metadata": {},
   "outputs": [
    {
     "data": {
      "text/plain": [
       "(<PIL.Image.Image image mode=RGB size=32x32>, 3)"
      ]
     },
     "execution_count": 4,
     "metadata": {},
     "output_type": "execute_result"
    }
   ],
   "source": [
    "# getting a specific image\n",
    "img, label = cifar10[550]\n",
    "\n",
    "img, label"
   ]
  },
  {
   "cell_type": "code",
   "execution_count": 5,
   "id": "868aae64-fa2a-4347-9743-f0806710de14",
   "metadata": {},
   "outputs": [
    {
     "data": {
      "image/png": "[encoded data removed]",
      "text/plain": [
       "<Figure size 640x480 with 1 Axes>"
      ]
     },
     "metadata": {},
     "output_type": "display_data"
    }
   ],
   "source": [
    "# Display image\n",
    "plt.imshow(img)\n",
    "plt.show()"
   ]
  },
  {
   "cell_type": "code",
   "execution_count": 6,
   "id": "45a66a2b-3239-4bef-8980-9573a9c67ec6",
   "metadata": {},
   "outputs": [
    {
     "data": {
      "text/plain": [
       "(torchvision.datasets.cifar.CIFAR10,\n",
       " torchvision.datasets.vision.VisionDataset,\n",
       " torch.utils.data.dataset.Dataset,\n",
       " typing.Generic,\n",
       " object)"
      ]
     },
     "execution_count": 6,
     "metadata": {},
     "output_type": "execute_result"
    }
   ],
   "source": [
    "# type of cifar\n",
    "type(cifar10).__mro__"
   ]
  },
  {
   "cell_type": "code",
   "execution_count": 7,
   "id": "3c8ac643-b884-4525-bd06-f090af119527",
   "metadata": {
    "scrolled": true
   },
   "outputs": [
    {
     "data": {
      "text/plain": [
       "['AugMix',\n",
       " 'AutoAugment',\n",
       " 'AutoAugmentPolicy',\n",
       " 'CenterCrop',\n",
       " 'ColorJitter',\n",
       " 'Compose',\n",
       " 'ConvertImageDtype',\n",
       " 'ElasticTransform',\n",
       " 'FiveCrop',\n",
       " 'GaussianBlur',\n",
       " 'Grayscale',\n",
       " 'InterpolationMode',\n",
       " 'Lambda',\n",
       " 'LinearTransformation',\n",
       " 'Normalize',\n",
       " 'PILToTensor',\n",
       " 'Pad',\n",
       " 'RandAugment',\n",
       " 'RandomAdjustSharpness',\n",
       " 'RandomAffine',\n",
       " 'RandomApply',\n",
       " 'RandomAutocontrast',\n",
       " 'RandomChoice',\n",
       " 'RandomCrop',\n",
       " 'RandomEqualize',\n",
       " 'RandomErasing',\n",
       " 'RandomGrayscale',\n",
       " 'RandomHorizontalFlip',\n",
       " 'RandomInvert',\n",
       " 'RandomOrder',\n",
       " 'RandomPerspective',\n",
       " 'RandomPosterize',\n",
       " 'RandomResizedCrop',\n",
       " 'RandomRotation',\n",
       " 'RandomSolarize',\n",
       " 'RandomVerticalFlip',\n",
       " 'Resize',\n",
       " 'TenCrop',\n",
       " 'ToPILImage',\n",
       " 'ToTensor',\n",
       " 'TrivialAugmentWide',\n",
       " '__builtins__',\n",
       " '__cached__',\n",
       " '__doc__',\n",
       " '__file__',\n",
       " '__loader__',\n",
       " '__name__',\n",
       " '__package__',\n",
       " '__path__',\n",
       " '__spec__',\n",
       " '_functional_pil',\n",
       " '_functional_tensor',\n",
       " '_presets',\n",
       " 'autoaugment',\n",
       " 'functional',\n",
       " 'transforms']"
      ]
     },
     "execution_count": 7,
     "metadata": {},
     "output_type": "execute_result"
    }
   ],
   "source": [
    "# tranformrs directory\n",
    "dir(transforms)"
   ]
  },
  {
   "cell_type": "markdown",
   "id": "46bde673-de48-432f-ba58-77807a84e1f4",
   "metadata": {},
   "source": [
    "#### Convert into tensors"
   ]
  },
  {
   "cell_type": "code",
   "execution_count": 8,
   "id": "7b3b1451-4089-4c25-8edc-b4ddbc50fe1d",
   "metadata": {},
   "outputs": [
    {
     "data": {
      "text/plain": [
       "torch.Size([3, 32, 32])"
      ]
     },
     "execution_count": 8,
     "metadata": {},
     "output_type": "execute_result"
    }
   ],
   "source": [
    "to_tensor = transforms.ToTensor()\n",
    "\n",
    "img_t = to_tensor(img)\n",
    "\n",
    "img_t.shape"
   ]
  },
  {
   "cell_type": "code",
   "execution_count": 9,
   "id": "6bfa8e88-35f4-452d-b956-3042f98e8823",
   "metadata": {},
   "outputs": [],
   "source": [
    "# pass the transform directly as an argument to dataset\n",
    "tensor_cifar10 = datasets.CIFAR10(data_path,\n",
    "                                  train=True,\n",
    "                                  download=False,\n",
    "                                  transform=transforms.ToTensor())"
   ]
  },
  {
   "cell_type": "code",
   "execution_count": 10,
   "id": "f099c201-3d22-4d2d-b453-8755aab16199",
   "metadata": {},
   "outputs": [],
   "source": [
    "img_t, _ = tensor_cifar10[99]"
   ]
  },
  {
   "cell_type": "code",
   "execution_count": 11,
   "id": "4303a9da-6319-4d54-8c7e-06f602e56676",
   "metadata": {},
   "outputs": [
    {
     "data": {
      "text/plain": [
       "torch.Tensor"
      ]
     },
     "execution_count": 11,
     "metadata": {},
     "output_type": "execute_result"
    }
   ],
   "source": [
    "type(img_t)"
   ]
  },
  {
   "cell_type": "code",
   "execution_count": 12,
   "id": "35ca07b6-abf3-4e93-b842-c269ca168b16",
   "metadata": {},
   "outputs": [
    {
     "data": {
      "text/plain": [
       "(torch.Size([3, 32, 32]), torch.float32)"
      ]
     },
     "execution_count": 12,
     "metadata": {},
     "output_type": "execute_result"
    }
   ],
   "source": [
    "img_t.shape, img_t.dtype"
   ]
  },
  {
   "cell_type": "markdown",
   "id": "12dba663-118a-40c6-a6dc-d3fc311400ee",
   "metadata": {},
   "source": [
    "The values in the original PIL image ranged from 0 to 255 (8 bits per channel), <br>\n",
    "the ToTensor transform turns the data into a 32-bit floating-point per channel, <br>\n",
    "scaling the values down from 0.0 to 1.0."
   ]
  },
  {
   "cell_type": "code",
   "execution_count": 13,
   "id": "ad6a2fe7-dadd-452e-a032-ecb4bef6a9b7",
   "metadata": {},
   "outputs": [
    {
     "data": {
      "text/plain": [
       "(tensor(0.), tensor(1.))"
      ]
     },
     "execution_count": 13,
     "metadata": {},
     "output_type": "execute_result"
    }
   ],
   "source": [
    "img_t.min(), img_t.max()"
   ]
  },
  {
   "cell_type": "code",
   "execution_count": 14,
   "id": "811d4935-94be-4378-8d51-02307dc2970c",
   "metadata": {
    "scrolled": true
   },
   "outputs": [
    {
     "data": {
      "image/png": "[encoded data removed]",
      "text/plain": [
       "<Figure size 640x480 with 1 Axes>"
      ]
     },
     "metadata": {},
     "output_type": "display_data"
    }
   ],
   "source": [
    "plt.imshow(img_t.permute(1, 2, 0))\n",
    "plt.show()"
   ]
  },
  {
   "cell_type": "markdown",
   "id": "65d35b2f-8600-4faf-9d7c-f20ee131f0da",
   "metadata": {},
   "source": [
    "### Normalization"
   ]
  },
  {
   "cell_type": "code",
   "execution_count": 15,
   "id": "315f9188-40b5-4f08-b8c3-6d16bcf8dda7",
   "metadata": {},
   "outputs": [
    {
     "data": {
      "text/plain": [
       "torch.Size([3, 32, 32, 50000])"
      ]
     },
     "execution_count": 15,
     "metadata": {},
     "output_type": "execute_result"
    }
   ],
   "source": [
    "# stack all the tensors\n",
    "imgs = torch.stack([img_t for img_t, _ in tensor_cifar10], dim=3)\n",
    "\n",
    "imgs.shape"
   ]
  },
  {
   "cell_type": "code",
   "execution_count": 16,
   "id": "aa2df18f-4833-447b-93ea-8334a0288354",
   "metadata": {},
   "outputs": [
    {
     "data": {
      "text/plain": [
       "torch.Size([3, 51200000])"
      ]
     },
     "execution_count": 16,
     "metadata": {},
     "output_type": "execute_result"
    }
   ],
   "source": [
    "# flattern the tensor\n",
    "imgs_flattern = imgs.view(3, -1)\n",
    "imgs_flattern.shape"
   ]
  },
  {
   "cell_type": "code",
   "execution_count": 17,
   "id": "511ef65b-518d-4335-a626-555415270574",
   "metadata": {},
   "outputs": [
    {
     "data": {
      "text/plain": [
       "tensor([0.4914, 0.4822, 0.4465])"
      ]
     },
     "execution_count": 17,
     "metadata": {},
     "output_type": "execute_result"
    }
   ],
   "source": [
    "# compute the mean per channel\n",
    "# Mean for 3 channels (R, G, B)\n",
    "img_mean = imgs_flattern.mean(dim=1)\n",
    "img_mean"
   ]
  },
  {
   "cell_type": "code",
   "execution_count": 18,
   "id": "cfd97529-90c2-49e3-b3d1-f75eba9429dd",
   "metadata": {},
   "outputs": [
    {
     "data": {
      "text/plain": [
       "tensor([0.2470, 0.2435, 0.2616])"
      ]
     },
     "execution_count": 18,
     "metadata": {},
     "output_type": "execute_result"
    }
   ],
   "source": [
    "# Compute standard deviation\n",
    "img_std = imgs_flattern.std(dim=1)\n",
    "img_std"
   ]
  },
  {
   "cell_type": "markdown",
   "id": "abd734b8-0494-4814-89a8-7cdcfca72432",
   "metadata": {},
   "source": [
    "initialize the Normalize transform"
   ]
  },
  {
   "cell_type": "code",
   "execution_count": 19,
   "id": "03f74bb5-ebc5-44a5-9141-d376da2fcf45",
   "metadata": {},
   "outputs": [
    {
     "data": {
      "text/plain": [
       "Normalize(mean=(0.4914, 0.4822, 0.4465), std=(0.247, 0.2435, 0.2616))"
      ]
     },
     "execution_count": 19,
     "metadata": {},
     "output_type": "execute_result"
    }
   ],
   "source": [
    "transforms.Normalize(mean=(0.4914, 0.4822, 0.4465), std=(0.2470, 0.2435, 0.2616))"
   ]
  },
  {
   "cell_type": "code",
   "execution_count": 20,
   "id": "6ada0213-e9fc-4027-af34-a847975c34f9",
   "metadata": {},
   "outputs": [],
   "source": [
    "# train\n",
    "transformed_cifar10 = datasets.CIFAR10(data_path,\n",
    "                                       train=True,\n",
    "                                       download=False,\n",
    "                                       transform=transforms.Compose([ \n",
    "                                           transforms.ToTensor(),\n",
    "                                           transforms.Normalize((0.4914, 0.4822, 0.4465),\n",
    "                                                               (0.2470, 0.2435, 0.2616))\n",
    "                                       ]))\n",
    "\n",
    "# test\n",
    "transformed_cifar10_val = datasets.CIFAR10(data_path,\n",
    "                                           train=False,\n",
    "                                           download=False,\n",
    "                                           transform=transforms.Compose([ \n",
    "                                               transforms.ToTensor(),\n",
    "                                               transforms.Normalize(mean=(0.4914, 0.4822, 0.4465),\n",
    "                                                                   std=(0.2470, 0.2435, 0.2616))\n",
    "                                           ]))"
   ]
  },
  {
   "cell_type": "code",
   "execution_count": 21,
   "id": "da1d8b6e-871f-466d-b4f7-fbc4c8537983",
   "metadata": {},
   "outputs": [
    {
     "name": "stderr",
     "output_type": "stream",
     "text": [
      "Clipping input data to the valid range for imshow with RGB data ([0..1] for floats or [0..255] for integers). Got range [-1.9802876..2.1264887].\n"
     ]
    },
    {
     "data": {
      "image/png": "[encoded data removed]",
      "text/plain": [
       "<Figure size 640x480 with 1 Axes>"
      ]
     },
     "metadata": {},
     "output_type": "display_data"
    }
   ],
   "source": [
    "img_t, _ = transformed_cifar10[99]\n",
    "\n",
    "plt.imshow(img_t.permute(1, 2, 0))\n",
    "plt.show()"
   ]
  },
  {
   "cell_type": "markdown",
   "id": "f707514e-fc56-439e-86dd-2486613c675a",
   "metadata": {},
   "source": [
    "# Telling Birds from Airplane"
   ]
  },
  {
   "cell_type": "markdown",
   "id": "59b23845-3d8a-4f2d-9625-bd854a54bdd3",
   "metadata": {},
   "source": [
    "Converting the dataset into binary dataset"
   ]
  },
  {
   "cell_type": "code",
   "execution_count": 22,
   "id": "3b74943b-4476-4761-a22e-58e4fc0a0107",
   "metadata": {},
   "outputs": [],
   "source": [
    "label_map = {0:0, 2:1}\n",
    "class_name = ['airplane', 'bird']"
   ]
  },
  {
   "cell_type": "code",
   "execution_count": 23,
   "id": "a373934b-5611-41a9-bf3c-4136baf5fb92",
   "metadata": {},
   "outputs": [],
   "source": [
    "cifar2 = [(img, label_map[label])\n",
    "          for img, label in transformed_cifar10\n",
    "          if label in [0, 2]]\n",
    "cifar2_val = [(img, label_map[label])\n",
    "              for img, label in transformed_cifar10_val\n",
    "              if label in [0, 2]]"
   ]
  },
  {
   "cell_type": "code",
   "execution_count": 24,
   "id": "f4863cf7-3bb4-4301-bf2e-045c826ee442",
   "metadata": {},
   "outputs": [
    {
     "data": {
      "text/plain": [
       "10000"
      ]
     },
     "execution_count": 24,
     "metadata": {},
     "output_type": "execute_result"
    }
   ],
   "source": [
    "len(cifar2)"
   ]
  },
  {
   "cell_type": "code",
   "execution_count": 25,
   "id": "39bdb40c-1f1b-4737-8041-b8dcd5fea231",
   "metadata": {},
   "outputs": [],
   "source": [
    "img, label = cifar2[99]"
   ]
  },
  {
   "cell_type": "code",
   "execution_count": 26,
   "id": "672d9261-2cc2-48aa-8aee-bad04a9bb756",
   "metadata": {},
   "outputs": [
    {
     "name": "stderr",
     "output_type": "stream",
     "text": [
      "Clipping input data to the valid range for imshow with RGB data ([0..1] for floats or [0..255] for integers). Got range [-1.6581874..2.0137537].\n"
     ]
    },
    {
     "data": {
      "text/plain": [
       "<function matplotlib.pyplot.show(close=None, block=None)>"
      ]
     },
     "execution_count": 26,
     "metadata": {},
     "output_type": "execute_result"
    },
    {
     "data": {
      "image/png": "[encoded data removed]",
      "text/plain": [
       "<Figure size 640x480 with 1 Axes>"
      ]
     },
     "metadata": {},
     "output_type": "display_data"
    }
   ],
   "source": [
    "plt.imshow(img.permute(1,2,0))\n",
    "plt.show"
   ]
  },
  {
   "cell_type": "markdown",
   "id": "4ae3c82a-58c0-4cf1-85ab-fd4b8a155e23",
   "metadata": {},
   "source": [
    "## Create a model with 1 hidden layer"
   ]
  },
  {
   "cell_type": "code",
   "execution_count": 27,
   "id": "4d39a0b3-371f-40cb-a913-240bfa832a0a",
   "metadata": {},
   "outputs": [],
   "source": [
    "import torch.nn as nn"
   ]
  },
  {
   "cell_type": "code",
   "execution_count": 28,
   "id": "c4c0f79b-a988-433d-9720-3f44371cbc4c",
   "metadata": {},
   "outputs": [],
   "source": [
    "# number of inputs\n",
    "n_in = 3 * 32 * 32\n",
    "# number of outputs\n",
    "n_out = 2"
   ]
  },
  {
   "cell_type": "code",
   "execution_count": 29,
   "id": "9a907617-5d14-4a01-83ff-560c4d8aedb2",
   "metadata": {},
   "outputs": [],
   "source": [
    "model = nn.Sequential(\n",
    "    nn.Linear(n_in, 512),\n",
    "    nn.Tanh(),\n",
    "    nn.Linear(512, n_out),\n",
    "    nn.LogSoftmax(dim=1),\n",
    ")"
   ]
  },
  {
   "cell_type": "markdown",
   "id": "b7d6d790-20f3-453d-8418-31cbae04e729",
   "metadata": {},
   "source": [
    "1 example image testing"
   ]
  },
  {
   "cell_type": "code",
   "execution_count": 30,
   "id": "a1131788-c5ba-417a-b952-01a143578192",
   "metadata": {},
   "outputs": [],
   "source": [
    "img, _ = cifar2[0]"
   ]
  },
  {
   "cell_type": "code",
   "execution_count": 31,
   "id": "7bfdebdc-1243-4966-a24c-280055d52d12",
   "metadata": {
    "scrolled": true
   },
   "outputs": [
    {
     "data": {
      "text/plain": [
       "torch.Tensor"
      ]
     },
     "execution_count": 31,
     "metadata": {},
     "output_type": "execute_result"
    }
   ],
   "source": [
    "type(img)"
   ]
  },
  {
   "cell_type": "code",
   "execution_count": 32,
   "id": "b1c6a1b2-d6fb-4269-8d2f-519703fe4e4f",
   "metadata": {},
   "outputs": [],
   "source": [
    "# convert image into 1D array\n",
    "img_batch = img.view(-1).unsqueeze(0)"
   ]
  },
  {
   "cell_type": "code",
   "execution_count": 33,
   "id": "bbbaf28e-e88d-4fcd-93f8-a9e3b83f5afc",
   "metadata": {},
   "outputs": [
    {
     "data": {
      "text/plain": [
       "torch.Size([1, 3072])"
      ]
     },
     "execution_count": 33,
     "metadata": {},
     "output_type": "execute_result"
    }
   ],
   "source": [
    "img_batch.shape"
   ]
  },
  {
   "cell_type": "code",
   "execution_count": 34,
   "id": "4fc93278-5e9f-4eb2-a035-c0ae48accb4f",
   "metadata": {},
   "outputs": [
    {
     "data": {
      "text/plain": [
       "tensor([[-0.7772, -0.6156]], grad_fn=<LogSoftmaxBackward0>)"
      ]
     },
     "execution_count": 34,
     "metadata": {},
     "output_type": "execute_result"
    }
   ],
   "source": [
    "# train model on 1 image\n",
    "out = model(img_batch)\n",
    "\n",
    "out"
   ]
  },
  {
   "cell_type": "markdown",
   "id": "9fdf835d-52ce-4f0d-a742-f5d934b125a8",
   "metadata": {},
   "source": [
    "Index `0`: Airplane, `1`: Bird "
   ]
  },
  {
   "cell_type": "code",
   "execution_count": 35,
   "id": "665dede2-4256-4cbd-bc43-d32b7bc7f6dd",
   "metadata": {},
   "outputs": [
    {
     "data": {
      "text/plain": [
       "tensor([1])"
      ]
     },
     "execution_count": 35,
     "metadata": {},
     "output_type": "execute_result"
    }
   ],
   "source": [
    "_, index = torch.max(out, dim=1)\n",
    "\n",
    "index"
   ]
  },
  {
   "cell_type": "markdown",
   "id": "874c6f48-3f5c-4414-ade6-7d5f3619a941",
   "metadata": {},
   "source": [
    "## Using negative log likelihood (NLL) loss function"
   ]
  },
  {
   "cell_type": "code",
   "execution_count": 36,
   "id": "cc47e1c0-1c28-4149-af3b-831cca2f02c0",
   "metadata": {},
   "outputs": [],
   "source": [
    "loss = nn.NLLLoss()"
   ]
  },
  {
   "cell_type": "code",
   "execution_count": 37,
   "id": "ea1c670f-a824-485f-8f4f-c2e66a27b2a2",
   "metadata": {},
   "outputs": [
    {
     "data": {
      "text/plain": [
       "1"
      ]
     },
     "execution_count": 37,
     "metadata": {},
     "output_type": "execute_result"
    }
   ],
   "source": [
    "img, label = cifar2[0]\n",
    "\n",
    "label"
   ]
  },
  {
   "cell_type": "code",
   "execution_count": 38,
   "id": "7f9cae48-34f6-4b1e-845f-697eac4d4b3c",
   "metadata": {},
   "outputs": [
    {
     "data": {
      "text/plain": [
       "tensor([[-0.7772, -0.6156]], grad_fn=<LogSoftmaxBackward0>)"
      ]
     },
     "execution_count": 38,
     "metadata": {},
     "output_type": "execute_result"
    }
   ],
   "source": [
    "out = model(img.view(-1).unsqueeze(0))\n",
    "out"
   ]
  },
  {
   "cell_type": "code",
   "execution_count": 39,
   "id": "bac0e76e-8db4-49c2-88e3-5ddfb60daf7c",
   "metadata": {},
   "outputs": [
    {
     "data": {
      "text/plain": [
       "tensor(0.6156, grad_fn=<NllLossBackward0>)"
      ]
     },
     "execution_count": 39,
     "metadata": {},
     "output_type": "execute_result"
    }
   ],
   "source": [
    "loss(out, torch.tensor([label]))"
   ]
  },
  {
   "cell_type": "markdown",
   "id": "6013a4d5-08dc-4863-9af8-eb87ed761c1e",
   "metadata": {},
   "source": [
    "## Define parameters"
   ]
  },
  {
   "cell_type": "code",
   "execution_count": 40,
   "id": "2c93a795-bb4d-4228-bced-baf2c62d5ed1",
   "metadata": {},
   "outputs": [],
   "source": [
    "learning_rate = 1e-2\n",
    "epochs = 100"
   ]
  },
  {
   "cell_type": "markdown",
   "id": "e3d9160c-32c0-47dd-a57b-fa9bf07d4120",
   "metadata": {},
   "source": [
    "## define optimizer"
   ]
  },
  {
   "cell_type": "code",
   "execution_count": 41,
   "id": "94c6231d-7766-4e4d-ade7-24f0c1a579b4",
   "metadata": {},
   "outputs": [],
   "source": [
    "import torch.optim as optim"
   ]
  },
  {
   "cell_type": "code",
   "execution_count": 42,
   "id": "357207e6-ede7-4764-98b0-7fa7f2a72ca4",
   "metadata": {},
   "outputs": [],
   "source": [
    "optimizer = optim.SGD(model.parameters(), lr=learning_rate)"
   ]
  },
  {
   "cell_type": "markdown",
   "id": "09659541-7a42-4a0b-8654-5313350b13fa",
   "metadata": {},
   "source": [
    "## Define loss function"
   ]
  },
  {
   "cell_type": "code",
   "execution_count": 43,
   "id": "c5b698fb-e676-42a2-913b-224f510d22b5",
   "metadata": {},
   "outputs": [],
   "source": [
    "loss_fn = nn.NLLLoss()"
   ]
  },
  {
   "cell_type": "markdown",
   "id": "646b3110-7d50-40af-8061-a9509b58fea7",
   "metadata": {},
   "source": [
    "### Configure device"
   ]
  },
  {
   "cell_type": "code",
   "execution_count": 44,
   "id": "84099b40-3f96-4ab2-90c1-44d40813be2a",
   "metadata": {},
   "outputs": [
    {
     "data": {
      "text/plain": [
       "Sequential(\n",
       "  (0): Linear(in_features=3072, out_features=512, bias=True)\n",
       "  (1): Tanh()\n",
       "  (2): Linear(in_features=512, out_features=2, bias=True)\n",
       "  (3): LogSoftmax(dim=1)\n",
       ")"
      ]
     },
     "execution_count": 44,
     "metadata": {},
     "output_type": "execute_result"
    }
   ],
   "source": [
    "device = 'cuda'\n",
    "\n",
    "model.to(device)"
   ]
  },
  {
   "cell_type": "markdown",
   "id": "be4e0dd3-1f38-4981-85d6-7eca06f58f5e",
   "metadata": {},
   "source": [
    "## Dataloader"
   ]
  },
  {
   "cell_type": "code",
   "execution_count": 45,
   "id": "0fdc1e2c-b50e-462f-b274-988277ecdeb4",
   "metadata": {},
   "outputs": [],
   "source": [
    "from torch.utils.data import DataLoader\n",
    "\n",
    "batch_size = 64\n",
    "train_loader = DataLoader(cifar2, batch_size=batch_size, shuffle=True)\n",
    "test_loader = DataLoader(cifar2_val, batch_size=batch_size, shuffle=False)"
   ]
  },
  {
   "cell_type": "markdown",
   "id": "d17bed87-c750-4125-a894-deec213f8bd9",
   "metadata": {},
   "source": [
    "## Training loop"
   ]
  },
  {
   "cell_type": "code",
   "execution_count": 158,
   "id": "aecec51d-a0cc-4475-bc30-b0d14170034a",
   "metadata": {
    "scrolled": true
   },
   "outputs": [
    {
     "name": "stderr",
     "output_type": "stream",
     "text": [
      "/tmp/ipykernel_1751/862976343.py:6: UserWarning: To copy construct from a tensor, it is recommended to use sourceTensor.clone().detach() or sourceTensor.clone().detach().requires_grad_(True), rather than torch.tensor(sourceTensor).\n",
      "  label_batch = torch.tensor(label_batch)\n"
     ]
    },
    {
     "name": "stdout",
     "output_type": "stream",
     "text": [
      "Epoch: 1, Loss: 0.6391\n",
      "Epoch: 2, Loss: 0.6605\n",
      "Epoch: 3, Loss: 0.7033\n",
      "Epoch: 4, Loss: 0.6729\n",
      "Epoch: 5, Loss: 0.6922\n",
      "Epoch: 6, Loss: 0.6468\n",
      "Epoch: 7, Loss: 0.7163\n",
      "Epoch: 8, Loss: 0.7253\n",
      "Epoch: 9, Loss: 0.6949\n",
      "Epoch: 10, Loss: 0.6675\n",
      "Epoch: 11, Loss: 0.7296\n",
      "Epoch: 12, Loss: 0.7073\n",
      "Epoch: 13, Loss: 0.6256\n",
      "Epoch: 14, Loss: 0.7048\n",
      "Epoch: 15, Loss: 0.7251\n",
      "Epoch: 16, Loss: 0.7676\n",
      "Epoch: 17, Loss: 0.7523\n",
      "Epoch: 18, Loss: 0.7338\n",
      "Epoch: 19, Loss: 0.6997\n",
      "Epoch: 20, Loss: 0.6371\n",
      "Epoch: 21, Loss: 0.7293\n",
      "Epoch: 22, Loss: 0.6876\n",
      "Epoch: 23, Loss: 0.6115\n",
      "Epoch: 24, Loss: 0.6430\n",
      "Epoch: 25, Loss: 0.7015\n",
      "Epoch: 26, Loss: 0.6812\n",
      "Epoch: 27, Loss: 0.7526\n",
      "Epoch: 28, Loss: 0.6760\n",
      "Epoch: 29, Loss: 0.6272\n",
      "Epoch: 30, Loss: 0.7028\n",
      "Epoch: 31, Loss: 0.7045\n",
      "Epoch: 32, Loss: 0.6803\n",
      "Epoch: 33, Loss: 0.7368\n",
      "Epoch: 34, Loss: 0.6587\n",
      "Epoch: 35, Loss: 0.6863\n",
      "Epoch: 36, Loss: 0.6125\n",
      "Epoch: 37, Loss: 0.6915\n",
      "Epoch: 38, Loss: 0.6640\n",
      "Epoch: 39, Loss: 0.7420\n",
      "Epoch: 40, Loss: 0.7010\n",
      "Epoch: 41, Loss: 0.6809\n",
      "Epoch: 42, Loss: 0.6981\n",
      "Epoch: 43, Loss: 0.6954\n",
      "Epoch: 44, Loss: 0.6636\n",
      "Epoch: 45, Loss: 0.7061\n",
      "Epoch: 46, Loss: 0.6904\n",
      "Epoch: 47, Loss: 0.6278\n",
      "Epoch: 48, Loss: 0.6849\n",
      "Epoch: 49, Loss: 0.6774\n",
      "Epoch: 50, Loss: 0.7160\n",
      "Epoch: 51, Loss: 0.7426\n",
      "Epoch: 52, Loss: 0.6552\n",
      "Epoch: 53, Loss: 0.6517\n",
      "Epoch: 54, Loss: 0.7600\n",
      "Epoch: 55, Loss: 0.7405\n",
      "Epoch: 56, Loss: 0.7314\n",
      "Epoch: 57, Loss: 0.6182\n",
      "Epoch: 58, Loss: 0.6766\n",
      "Epoch: 59, Loss: 0.6394\n",
      "Epoch: 60, Loss: 0.6928\n",
      "Epoch: 61, Loss: 0.6061\n",
      "Epoch: 62, Loss: 0.6758\n",
      "Epoch: 63, Loss: 0.7122\n",
      "Epoch: 64, Loss: 0.6972\n",
      "Epoch: 65, Loss: 0.7282\n",
      "Epoch: 66, Loss: 0.6633\n",
      "Epoch: 67, Loss: 0.7398\n",
      "Epoch: 68, Loss: 0.7235\n",
      "Epoch: 69, Loss: 0.6800\n",
      "Epoch: 70, Loss: 0.6801\n",
      "Epoch: 71, Loss: 0.6716\n",
      "Epoch: 72, Loss: 0.6537\n",
      "Epoch: 73, Loss: 0.6877\n",
      "Epoch: 74, Loss: 0.6640\n",
      "Epoch: 75, Loss: 0.7019\n",
      "Epoch: 76, Loss: 0.6978\n",
      "Epoch: 77, Loss: 0.7574\n",
      "Epoch: 78, Loss: 0.6615\n",
      "Epoch: 79, Loss: 0.6428\n",
      "Epoch: 80, Loss: 0.7411\n",
      "Epoch: 81, Loss: 0.6814\n",
      "Epoch: 82, Loss: 0.6262\n",
      "Epoch: 83, Loss: 0.7302\n",
      "Epoch: 84, Loss: 0.6778\n",
      "Epoch: 85, Loss: 0.6729\n",
      "Epoch: 86, Loss: 0.7194\n",
      "Epoch: 87, Loss: 0.7249\n",
      "Epoch: 88, Loss: 0.6933\n",
      "Epoch: 89, Loss: 0.6393\n",
      "Epoch: 90, Loss: 0.6909\n",
      "Epoch: 91, Loss: 0.7476\n",
      "Epoch: 92, Loss: 0.6894\n",
      "Epoch: 93, Loss: 0.6955\n",
      "Epoch: 94, Loss: 0.7077\n",
      "Epoch: 95, Loss: 0.7108\n",
      "Epoch: 96, Loss: 0.6499\n",
      "Epoch: 97, Loss: 0.6653\n",
      "Epoch: 98, Loss: 0.6556\n",
      "Epoch: 99, Loss: 0.7427\n",
      "Epoch: 100, Loss: 0.6698\n"
     ]
    }
   ],
   "source": [
    "for epoch in range(1, epochs+1):\n",
    "    for img_batch, label_batch in loader_train:\n",
    "\n",
    "        # Move data to the device\n",
    "        img_batch = img_batch.to(device)  # Move image tensor to the GPU\n",
    "        label_batch = torch.tensor(label_batch)\n",
    "        label_batch = label_batch.to(device)  # Move label tensor to the GPU\n",
    "\n",
    "        img_batch = img_batch.view(img_batch.size(0), -1)  # Flatten image\n",
    "\n",
    "        out = model(img_batch)\n",
    "        loss = loss_fn(out, label_batch)\n",
    "\n",
    "        optimizer.zero_grad()\n",
    "        loss.backward()\n",
    "        optimizer.step()\n",
    "\n",
    "    print(f\"Epoch: {epoch}, Loss: {loss:.4f}\")"
   ]
  },
  {
   "cell_type": "markdown",
   "id": "80fb9351-6db9-472d-8154-ea4672a96789",
   "metadata": {},
   "source": [
    "## Accuracy"
   ]
  },
  {
   "cell_type": "code",
   "execution_count": 157,
   "id": "2cee3d7a-085f-4ba8-a2bc-2033128e41a8",
   "metadata": {},
   "outputs": [
    {
     "name": "stdout",
     "output_type": "stream",
     "text": [
      "Accuracy: %f 0.537\n"
     ]
    }
   ],
   "source": [
    "correct = 0\n",
    "total = 0\n",
    "\n",
    "with torch.no_grad():\n",
    "    for imgs, labels in test_loader:\n",
    "\n",
    "        imgs = imgs.to(device)\n",
    "        labels = labels.to(device)\n",
    "        \n",
    "        batch_size = imgs.shape[0]\n",
    "        outputs = model(imgs.view(batch_size,-1))\n",
    "        _, predicted = torch.max(outputs, dim=1)\n",
    "        total += labels.shape[0]\n",
    "        correct += int((predicted == labels).sum())\n",
    "    \n",
    "print(\"Accuracy: %f\", correct / total)"
   ]
  },
  {
   "cell_type": "markdown",
   "id": "880f2277-b40f-40b5-b36e-a37b3086a965",
   "metadata": {},
   "source": [
    "## Defining all parameters in 1 roof"
   ]
  },
  {
   "cell_type": "code",
   "execution_count": 46,
   "id": "8905a564-541b-4949-981a-c72ff579b177",
   "metadata": {
    "scrolled": true
   },
   "outputs": [
    {
     "name": "stdout",
     "output_type": "stream",
     "text": [
      "Epoch: 0, Loss: 3.641151\n",
      "Epoch: 1, Loss: 4.989933\n",
      "Epoch: 2, Loss: 1.167691\n",
      "Epoch: 3, Loss: 6.303051\n",
      "Epoch: 4, Loss: 12.628299\n",
      "Epoch: 5, Loss: 12.737124\n",
      "Epoch: 6, Loss: 12.567104\n",
      "Epoch: 7, Loss: 10.258410\n",
      "Epoch: 8, Loss: 9.528527\n",
      "Epoch: 9, Loss: 20.490479\n",
      "Epoch: 10, Loss: 10.521297\n",
      "Epoch: 11, Loss: 7.078247\n",
      "Epoch: 12, Loss: 13.167274\n",
      "Epoch: 13, Loss: 9.374051\n",
      "Epoch: 14, Loss: 11.692616\n",
      "Epoch: 15, Loss: 4.464515\n",
      "Epoch: 16, Loss: 13.137626\n",
      "Epoch: 17, Loss: 5.501299\n",
      "Epoch: 18, Loss: 7.433122\n",
      "Epoch: 19, Loss: 7.807355\n",
      "Epoch: 20, Loss: 11.513771\n",
      "Epoch: 21, Loss: 18.033234\n",
      "Epoch: 22, Loss: 12.376985\n",
      "Epoch: 23, Loss: 10.644934\n",
      "Epoch: 24, Loss: 13.506724\n",
      "Epoch: 25, Loss: 3.997938\n",
      "Epoch: 26, Loss: 5.486836\n",
      "Epoch: 27, Loss: 0.054412\n",
      "Epoch: 28, Loss: 1.337059\n",
      "Epoch: 29, Loss: 14.065343\n",
      "Epoch: 30, Loss: 5.341583\n",
      "Epoch: 31, Loss: 9.499149\n",
      "Epoch: 32, Loss: 14.166084\n",
      "Epoch: 33, Loss: 12.133673\n",
      "Epoch: 34, Loss: 11.725872\n",
      "Epoch: 35, Loss: 13.929154\n",
      "Epoch: 36, Loss: 12.197278\n",
      "Epoch: 37, Loss: 8.418855\n",
      "Epoch: 38, Loss: 4.074442\n",
      "Epoch: 39, Loss: 1.882463\n",
      "Epoch: 40, Loss: 6.966225\n",
      "Epoch: 41, Loss: 9.776484\n",
      "Epoch: 42, Loss: 0.895206\n",
      "Epoch: 43, Loss: 9.250684\n",
      "Epoch: 44, Loss: 13.166117\n",
      "Epoch: 45, Loss: 1.357356\n",
      "Epoch: 46, Loss: 2.783802\n",
      "Epoch: 47, Loss: 12.398289\n",
      "Epoch: 48, Loss: 12.612725\n",
      "Epoch: 49, Loss: 10.972383\n",
      "Epoch: 50, Loss: 14.457212\n",
      "Epoch: 51, Loss: 23.867607\n",
      "Epoch: 52, Loss: 19.826530\n",
      "Epoch: 53, Loss: 13.985133\n",
      "Epoch: 54, Loss: 6.725934\n",
      "Epoch: 55, Loss: 11.482499\n",
      "Epoch: 56, Loss: 24.577232\n",
      "Epoch: 57, Loss: 9.798622\n",
      "Epoch: 58, Loss: 20.425430\n",
      "Epoch: 59, Loss: 16.621170\n",
      "Epoch: 60, Loss: 10.588308\n",
      "Epoch: 61, Loss: 10.331757\n",
      "Epoch: 62, Loss: 13.240118\n",
      "Epoch: 63, Loss: 18.380451\n",
      "Epoch: 64, Loss: 19.880079\n",
      "Epoch: 65, Loss: 19.708519\n",
      "Epoch: 66, Loss: 7.040124\n",
      "Epoch: 67, Loss: 16.516821\n",
      "Epoch: 68, Loss: 11.747183\n",
      "Epoch: 69, Loss: 6.471316\n",
      "Epoch: 70, Loss: 13.625278\n",
      "Epoch: 71, Loss: 19.653986\n",
      "Epoch: 72, Loss: 5.406513\n",
      "Epoch: 73, Loss: 11.488792\n",
      "Epoch: 74, Loss: 14.918247\n",
      "Epoch: 75, Loss: 14.053567\n",
      "Epoch: 76, Loss: 7.317502\n",
      "Epoch: 77, Loss: 8.706507\n",
      "Epoch: 78, Loss: 13.224714\n",
      "Epoch: 79, Loss: 2.969097\n",
      "Epoch: 80, Loss: 0.597878\n",
      "Epoch: 81, Loss: 15.549341\n",
      "Epoch: 82, Loss: 2.491825\n",
      "Epoch: 83, Loss: 2.834485\n",
      "Epoch: 84, Loss: 3.797407\n",
      "Epoch: 85, Loss: 16.245644\n",
      "Epoch: 86, Loss: 8.291828\n",
      "Epoch: 87, Loss: 13.496932\n",
      "Epoch: 88, Loss: 0.452023\n",
      "Epoch: 89, Loss: 15.390618\n",
      "Epoch: 90, Loss: 18.651705\n",
      "Epoch: 91, Loss: 9.349479\n",
      "Epoch: 92, Loss: 1.420816\n",
      "Epoch: 93, Loss: 0.842376\n",
      "Epoch: 94, Loss: 2.913089\n",
      "Epoch: 95, Loss: 2.720021\n",
      "Epoch: 96, Loss: 5.973613\n",
      "Epoch: 97, Loss: 1.108811\n",
      "Epoch: 98, Loss: 1.174240\n",
      "Epoch: 99, Loss: 9.675408\n"
     ]
    }
   ],
   "source": [
    "import torch\n",
    "import torch.nn as nn\n",
    "import torch.optim as optim\n",
    "\n",
    "model = nn.Sequential(\n",
    "            nn.Linear(3072, 512),\n",
    "            nn.Tanh(),\n",
    "            nn.Linear(512, 2),\n",
    "            nn.LogSoftmax(dim=1))\n",
    "\n",
    "learning_rate = 1e-2\n",
    "\n",
    "optimizer = optim.SGD(model.parameters(), lr=learning_rate)\n",
    "\n",
    "loss_fn = nn.NLLLoss()\n",
    "\n",
    "n_epochs = 100\n",
    "\n",
    "for epoch in range(n_epochs):\n",
    "    for img, label in cifar2:\n",
    "        out = model(img.view(-1).unsqueeze(0))\n",
    "        loss = loss_fn(out, torch.tensor([label]))\n",
    "                \n",
    "        optimizer.zero_grad()\n",
    "        loss.backward()\n",
    "        optimizer.step()\n",
    "\n",
    "    print(\"Epoch: %d, Loss: %f\" % (epoch, float(loss)))"
   ]
  },
  {
   "cell_type": "markdown",
   "id": "d9f1fdf7-3aa4-4a00-8dfe-e35a34efd749",
   "metadata": {},
   "source": [
    "## DataLoader"
   ]
  },
  {
   "cell_type": "code",
   "execution_count": 48,
   "id": "b5c75d8c-e200-4a7a-bdd1-8d619b3e21c4",
   "metadata": {},
   "outputs": [],
   "source": [
    "from torch.utils.data import DataLoader"
   ]
  },
  {
   "cell_type": "code",
   "execution_count": 50,
   "id": "278efe45-954c-43a8-9ddc-479aed6bf3f2",
   "metadata": {},
   "outputs": [],
   "source": [
    "train_loader = DataLoader(cifar2, batch_size=64, shuffle=True)"
   ]
  },
  {
   "cell_type": "markdown",
   "id": "e7b31c47-0d15-4317-9244-511595074956",
   "metadata": {},
   "source": [
    "## Training in batches"
   ]
  },
  {
   "cell_type": "code",
   "execution_count": 53,
   "id": "1f0d887d-6b94-4401-a9bf-70be16436242",
   "metadata": {
    "scrolled": true
   },
   "outputs": [
    {
     "name": "stdout",
     "output_type": "stream",
     "text": [
      "Epoch: 1, Loss: 0.036104\n",
      "Epoch: 2, Loss: 0.534175\n",
      "Epoch: 3, Loss: 0.068890\n",
      "Epoch: 4, Loss: 0.083835\n",
      "Epoch: 5, Loss: 0.095724\n",
      "Epoch: 6, Loss: 0.283701\n",
      "Epoch: 7, Loss: 0.321046\n",
      "Epoch: 8, Loss: 0.019270\n",
      "Epoch: 9, Loss: 0.115748\n",
      "Epoch: 10, Loss: 0.004692\n",
      "Epoch: 11, Loss: 0.079234\n",
      "Epoch: 12, Loss: 0.284482\n",
      "Epoch: 13, Loss: 0.096420\n",
      "Epoch: 14, Loss: 0.153455\n",
      "Epoch: 15, Loss: 0.434144\n",
      "Epoch: 16, Loss: 0.218087\n",
      "Epoch: 17, Loss: 0.117191\n",
      "Epoch: 18, Loss: 0.126637\n",
      "Epoch: 19, Loss: 0.422561\n",
      "Epoch: 20, Loss: 0.397096\n",
      "Epoch: 21, Loss: 0.344716\n",
      "Epoch: 22, Loss: 0.023209\n",
      "Epoch: 23, Loss: 0.045343\n",
      "Epoch: 24, Loss: 0.072131\n",
      "Epoch: 25, Loss: 0.402069\n",
      "Epoch: 26, Loss: 0.021150\n",
      "Epoch: 27, Loss: 0.181789\n",
      "Epoch: 28, Loss: 0.098271\n",
      "Epoch: 29, Loss: 0.133460\n",
      "Epoch: 30, Loss: 0.042983\n",
      "Epoch: 31, Loss: 0.223348\n",
      "Epoch: 32, Loss: 0.284233\n",
      "Epoch: 33, Loss: 0.044392\n",
      "Epoch: 34, Loss: 0.209911\n",
      "Epoch: 35, Loss: 0.236981\n",
      "Epoch: 36, Loss: 0.470504\n",
      "Epoch: 37, Loss: 0.217210\n",
      "Epoch: 38, Loss: 0.421908\n",
      "Epoch: 39, Loss: 0.152995\n",
      "Epoch: 40, Loss: 0.722767\n",
      "Epoch: 41, Loss: 0.082331\n",
      "Epoch: 42, Loss: 0.273480\n",
      "Epoch: 43, Loss: 0.059728\n",
      "Epoch: 44, Loss: 0.103768\n",
      "Epoch: 45, Loss: 0.043317\n",
      "Epoch: 46, Loss: 0.010419\n",
      "Epoch: 47, Loss: 0.241841\n",
      "Epoch: 48, Loss: 0.113706\n",
      "Epoch: 49, Loss: 0.103435\n",
      "Epoch: 50, Loss: 0.144901\n",
      "Epoch: 51, Loss: 0.020027\n",
      "Epoch: 52, Loss: 0.287919\n",
      "Epoch: 53, Loss: 0.231275\n",
      "Epoch: 54, Loss: 0.156260\n",
      "Epoch: 55, Loss: 0.425152\n",
      "Epoch: 56, Loss: 0.171891\n",
      "Epoch: 57, Loss: 0.048605\n",
      "Epoch: 58, Loss: 0.383051\n",
      "Epoch: 59, Loss: 0.335243\n",
      "Epoch: 60, Loss: 0.159047\n",
      "Epoch: 61, Loss: 0.188923\n",
      "Epoch: 62, Loss: 0.018761\n",
      "Epoch: 63, Loss: 0.281663\n",
      "Epoch: 64, Loss: 0.277739\n",
      "Epoch: 65, Loss: 0.199026\n",
      "Epoch: 66, Loss: 0.093593\n",
      "Epoch: 67, Loss: 0.020337\n",
      "Epoch: 68, Loss: 0.103961\n",
      "Epoch: 69, Loss: 0.055100\n",
      "Epoch: 70, Loss: 0.042244\n",
      "Epoch: 71, Loss: 0.066994\n",
      "Epoch: 72, Loss: 0.202043\n",
      "Epoch: 73, Loss: 0.110921\n",
      "Epoch: 74, Loss: 0.032074\n",
      "Epoch: 75, Loss: 0.257369\n",
      "Epoch: 76, Loss: 0.140765\n",
      "Epoch: 77, Loss: 0.049401\n",
      "Epoch: 78, Loss: 0.136145\n",
      "Epoch: 79, Loss: 0.041788\n",
      "Epoch: 80, Loss: 0.305196\n",
      "Epoch: 81, Loss: 0.133500\n",
      "Epoch: 82, Loss: 0.040153\n",
      "Epoch: 83, Loss: 0.215093\n",
      "Epoch: 84, Loss: 0.221467\n",
      "Epoch: 85, Loss: 0.137892\n",
      "Epoch: 86, Loss: 0.084145\n",
      "Epoch: 87, Loss: 0.048023\n",
      "Epoch: 88, Loss: 0.006832\n",
      "Epoch: 89, Loss: 0.039207\n",
      "Epoch: 90, Loss: 0.030525\n",
      "Epoch: 91, Loss: 0.079551\n",
      "Epoch: 92, Loss: 0.140585\n",
      "Epoch: 93, Loss: 0.026520\n",
      "Epoch: 94, Loss: 0.036149\n",
      "Epoch: 95, Loss: 0.360237\n",
      "Epoch: 96, Loss: 0.095353\n",
      "Epoch: 97, Loss: 0.013499\n",
      "Epoch: 98, Loss: 0.041001\n",
      "Epoch: 99, Loss: 0.084221\n",
      "Epoch: 100, Loss: 1.132711\n"
     ]
    }
   ],
   "source": [
    "for epoch in range(1, n_epochs+1):\n",
    "\n",
    "    for img_batch, label_batch in train_loader:\n",
    "\n",
    "        out = model(img_batch.view(img_batch.shape[0], -1))\n",
    "        loss = loss_fn(out, label_batch)\n",
    "\n",
    "        optimizer.zero_grad()\n",
    "        loss.backward()\n",
    "        optimizer.step()\n",
    "\n",
    "    print(\"Epoch: %d, Loss: %f\" % (epoch, float(loss)))"
   ]
  },
  {
   "cell_type": "markdown",
   "id": "2ae9bf79-5922-42fe-994f-2f939fa648bb",
   "metadata": {},
   "source": [
    "## Accuracy"
   ]
  },
  {
   "cell_type": "code",
   "execution_count": 54,
   "id": "aecbd139-53cf-4235-a566-ef49d723a4a4",
   "metadata": {},
   "outputs": [
    {
     "name": "stdout",
     "output_type": "stream",
     "text": [
      "Accuracy: 0.900000\n"
     ]
    }
   ],
   "source": [
    "# train_loader = torch.utils.data.DataLoader(cifar2, batch_size=64,\n",
    "#                                            shuffle=False)\n",
    "\n",
    "correct = 0\n",
    "total = 0\n",
    "\n",
    "with torch.no_grad():\n",
    "    for imgs, labels in train_loader:\n",
    "        outputs = model(imgs.view(imgs.shape[0], -1))\n",
    "        _, predicted = torch.max(outputs, dim=1)\n",
    "        total += labels.shape[0]\n",
    "        correct += int((predicted == labels).sum())\n",
    "        \n",
    "print(\"Accuracy: %f\" % (correct / total))"
   ]
  },
  {
   "cell_type": "code",
   "execution_count": 55,
   "id": "e830bdc8-7617-42f0-a2b3-60999d06cbfa",
   "metadata": {},
   "outputs": [
    {
     "name": "stdout",
     "output_type": "stream",
     "text": [
      "Accuracy: 0.681000\n"
     ]
    }
   ],
   "source": [
    "val_loader = torch.utils.data.DataLoader(cifar2_val, batch_size=64,\n",
    "                                         shuffle=False)\n",
    "\n",
    "correct = 0\n",
    "total = 0\n",
    "\n",
    "with torch.no_grad():\n",
    "    for imgs, labels in val_loader:\n",
    "        outputs = model(imgs.view(imgs.shape[0], -1))\n",
    "        _, predicted = torch.max(outputs, dim=1)\n",
    "        total += labels.shape[0]\n",
    "        correct += int((predicted == labels).sum())\n",
    "        \n",
    "print(\"Accuracy: %f\" % (correct / total))"
   ]
  },
  {
   "cell_type": "markdown",
   "id": "99b86feb-fde1-421d-bced-073a31414526",
   "metadata": {},
   "source": [
    "## Including more layers"
   ]
  },
  {
   "cell_type": "code",
   "execution_count": 56,
   "id": "9bf00dd1-5c8c-4708-9cbf-8c3f0effc427",
   "metadata": {},
   "outputs": [],
   "source": [
    "in_ = 3072\n",
    "out = 2\n",
    "\n",
    "model = nn.Sequential(\n",
    "    nn.Linear(in_, 1024),\n",
    "    nn.Tanh(),\n",
    "    nn.Linear(1024, 512),\n",
    "    nn.Tanh(),\n",
    "    nn.Linear(512, 128),\n",
    "    nn.Tanh(),\n",
    "    nn.Linear(128, out),\n",
    "    nn.LogSoftmax(dim=1))"
   ]
  },
  {
   "cell_type": "markdown",
   "id": "bfa68df5-7494-4c6c-ba5d-9d84b4592dea",
   "metadata": {},
   "source": [
    "## loss function to CrossEntropyLoss"
   ]
  },
  {
   "cell_type": "code",
   "execution_count": 57,
   "id": "ccb8cbf1-0203-4e0b-ab62-ec8780402791",
   "metadata": {},
   "outputs": [],
   "source": [
    "loss_fn = nn.CrossEntropyLoss()"
   ]
  },
  {
   "cell_type": "markdown",
   "id": "79dc731f-c05c-423e-988f-c82739b28dfe",
   "metadata": {},
   "source": [
    "## Train model with more layers"
   ]
  },
  {
   "cell_type": "code",
   "execution_count": 59,
   "id": "0f1ea3df-7919-40af-8461-bdaddd0c3c99",
   "metadata": {
    "scrolled": true
   },
   "outputs": [
    {
     "name": "stdout",
     "output_type": "stream",
     "text": [
      "Epoch: 1, Loss: 0.685718\n",
      "Epoch: 2, Loss: 0.658620\n",
      "Epoch: 3, Loss: 0.643667\n",
      "Epoch: 4, Loss: 0.649498\n",
      "Epoch: 5, Loss: 0.664906\n",
      "Epoch: 6, Loss: 0.594040\n",
      "Epoch: 7, Loss: 0.587843\n",
      "Epoch: 8, Loss: 0.632709\n",
      "Epoch: 9, Loss: 0.677843\n",
      "Epoch: 10, Loss: 0.660524\n",
      "Epoch: 11, Loss: 0.652785\n",
      "Epoch: 12, Loss: 0.614676\n",
      "Epoch: 13, Loss: 0.507440\n",
      "Epoch: 14, Loss: 0.586520\n",
      "Epoch: 15, Loss: 0.644191\n",
      "Epoch: 16, Loss: 0.574123\n",
      "Epoch: 17, Loss: 0.593709\n",
      "Epoch: 18, Loss: 0.622950\n",
      "Epoch: 19, Loss: 0.624224\n",
      "Epoch: 20, Loss: 0.609070\n",
      "Epoch: 21, Loss: 0.544129\n",
      "Epoch: 22, Loss: 0.471077\n",
      "Epoch: 23, Loss: 0.626031\n",
      "Epoch: 24, Loss: 0.391097\n",
      "Epoch: 25, Loss: 0.540826\n",
      "Epoch: 26, Loss: 0.764738\n",
      "Epoch: 27, Loss: 0.318285\n",
      "Epoch: 28, Loss: 0.469201\n",
      "Epoch: 29, Loss: 0.451271\n",
      "Epoch: 30, Loss: 0.597405\n",
      "Epoch: 31, Loss: 0.427028\n",
      "Epoch: 32, Loss: 0.564643\n",
      "Epoch: 33, Loss: 0.649006\n",
      "Epoch: 34, Loss: 0.563881\n",
      "Epoch: 35, Loss: 0.719474\n",
      "Epoch: 36, Loss: 0.430741\n",
      "Epoch: 37, Loss: 0.570369\n",
      "Epoch: 38, Loss: 0.746409\n",
      "Epoch: 39, Loss: 0.441612\n",
      "Epoch: 40, Loss: 0.687080\n",
      "Epoch: 41, Loss: 0.531617\n",
      "Epoch: 42, Loss: 0.341361\n",
      "Epoch: 43, Loss: 0.669199\n",
      "Epoch: 44, Loss: 0.621525\n",
      "Epoch: 45, Loss: 0.470873\n",
      "Epoch: 46, Loss: 0.546303\n",
      "Epoch: 47, Loss: 0.448259\n",
      "Epoch: 48, Loss: 0.577926\n",
      "Epoch: 49, Loss: 0.775732\n",
      "Epoch: 50, Loss: 0.605767\n",
      "Epoch: 51, Loss: 0.487470\n",
      "Epoch: 52, Loss: 0.482345\n",
      "Epoch: 53, Loss: 0.379793\n",
      "Epoch: 54, Loss: 0.524027\n",
      "Epoch: 55, Loss: 0.515930\n",
      "Epoch: 56, Loss: 0.532822\n",
      "Epoch: 57, Loss: 0.551922\n",
      "Epoch: 58, Loss: 0.459326\n",
      "Epoch: 59, Loss: 0.447753\n",
      "Epoch: 60, Loss: 0.575320\n",
      "Epoch: 61, Loss: 0.514784\n",
      "Epoch: 62, Loss: 0.543234\n",
      "Epoch: 63, Loss: 0.347518\n",
      "Epoch: 64, Loss: 0.522386\n",
      "Epoch: 65, Loss: 0.362958\n",
      "Epoch: 66, Loss: 0.506321\n",
      "Epoch: 67, Loss: 0.546046\n",
      "Epoch: 68, Loss: 0.544473\n",
      "Epoch: 69, Loss: 0.637818\n",
      "Epoch: 70, Loss: 0.485841\n",
      "Epoch: 71, Loss: 0.378116\n",
      "Epoch: 72, Loss: 0.611964\n",
      "Epoch: 73, Loss: 0.515092\n",
      "Epoch: 74, Loss: 0.447831\n",
      "Epoch: 75, Loss: 0.549941\n",
      "Epoch: 76, Loss: 0.396008\n",
      "Epoch: 77, Loss: 0.538145\n",
      "Epoch: 78, Loss: 0.523558\n",
      "Epoch: 79, Loss: 0.586172\n",
      "Epoch: 80, Loss: 0.617622\n",
      "Epoch: 81, Loss: 0.355054\n",
      "Epoch: 82, Loss: 0.375553\n",
      "Epoch: 83, Loss: 0.487039\n",
      "Epoch: 84, Loss: 0.490420\n",
      "Epoch: 85, Loss: 0.323695\n",
      "Epoch: 86, Loss: 0.546153\n",
      "Epoch: 87, Loss: 0.448705\n",
      "Epoch: 88, Loss: 0.357716\n",
      "Epoch: 89, Loss: 0.376872\n",
      "Epoch: 90, Loss: 0.467448\n",
      "Epoch: 91, Loss: 0.501901\n",
      "Epoch: 92, Loss: 0.530442\n",
      "Epoch: 93, Loss: 0.746104\n",
      "Epoch: 94, Loss: 0.594690\n",
      "Epoch: 95, Loss: 0.451702\n",
      "Epoch: 96, Loss: 0.443028\n",
      "Epoch: 97, Loss: 0.433571\n",
      "Epoch: 98, Loss: 0.440386\n",
      "Epoch: 99, Loss: 0.521423\n",
      "Epoch: 100, Loss: 0.418407\n"
     ]
    }
   ],
   "source": [
    "learning_rate = 1e-4\n",
    "\n",
    "optimizer = optim.SGD(model.parameters(), lr=learning_rate)\n",
    "\n",
    "for epoch in range(1, n_epochs+1):\n",
    "\n",
    "    for img_batch, label_batch in train_loader:\n",
    "\n",
    "        out = model(img_batch.view(img_batch.shape[0], -1))\n",
    "        loss = loss_fn(out, label_batch)\n",
    "\n",
    "        optimizer.zero_grad()\n",
    "        loss.backward()\n",
    "        optimizer.step()\n",
    "\n",
    "    print(\"Epoch: %d, Loss: %f\" % (epoch, float(loss)))"
   ]
  },
  {
   "cell_type": "code",
   "execution_count": 60,
   "id": "2b703b1b-5f05-4cc2-af19-4090c891d6c7",
   "metadata": {},
   "outputs": [
    {
     "name": "stdout",
     "output_type": "stream",
     "text": [
      "Accuracy: 0.776500\n"
     ]
    }
   ],
   "source": [
    "val_loader = torch.utils.data.DataLoader(cifar2_val, batch_size=64,\n",
    "                                         shuffle=False)\n",
    "\n",
    "correct = 0\n",
    "total = 0\n",
    "\n",
    "with torch.no_grad():\n",
    "    for imgs, labels in val_loader:\n",
    "        outputs = model(imgs.view(imgs.shape[0], -1))\n",
    "        _, predicted = torch.max(outputs, dim=1)\n",
    "        total += labels.shape[0]\n",
    "        correct += int((predicted == labels).sum())\n",
    "        \n",
    "print(\"Accuracy: %f\" % (correct / total))"
   ]
  },
  {
   "cell_type": "markdown",
   "id": "cac45462-ea4f-4a54-8d5e-dc3b9bf4c46e",
   "metadata": {},
   "source": [
    "## Total Prameters using numel method"
   ]
  },
  {
   "cell_type": "code",
   "execution_count": 61,
   "id": "09acbe5d-32ba-4496-9b44-e41b022c8ad3",
   "metadata": {},
   "outputs": [
    {
     "data": {
      "text/plain": [
       "(3737474, [3145728, 1024, 524288, 512, 65536, 128, 256, 2])"
      ]
     },
     "execution_count": 61,
     "metadata": {},
     "output_type": "execute_result"
    }
   ],
   "source": [
    "numel_list = [p.numel()\n",
    "             for p in model.parameters()\n",
    "             if p.requires_grad == True]\n",
    "\n",
    "sum(numel_list), numel_list"
   ]
  },
  {
   "cell_type": "code",
   "execution_count": null,
   "id": "c8b7c758-bbdb-4c83-8331-1f8c3f0bb5a8",
   "metadata": {},
   "outputs": [],
   "source": []
  }
 ],
 "metadata": {
  "kernelspec": {
   "display_name": "Python (rapids-24.10)",
   "language": "python",
   "name": "base"
  },
  "language_info": {
   "codemirror_mode": {
    "name": "ipython",
    "version": 3
   },
   "file_extension": ".py",
   "mimetype": "text/x-python",
   "name": "python",
   "nbconvert_exporter": "python",
   "pygments_lexer": "ipython3",
   "version": "3.10.15"
  }
 },
 "nbformat": 4,
 "nbformat_minor": 5
}
