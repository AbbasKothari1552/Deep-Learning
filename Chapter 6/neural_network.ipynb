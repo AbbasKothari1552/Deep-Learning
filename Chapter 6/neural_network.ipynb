{
 "cells": [
  {
   "cell_type": "markdown",
   "id": "f05dad71-5cd9-498f-ae60-3f6c4bcf6bfc",
   "metadata": {},
   "source": [
    "# torch.nn Module"
   ]
  },
  {
   "cell_type": "code",
   "execution_count": 4,
   "id": "5a38fad8-9690-43c7-aacb-9b48310da130",
   "metadata": {},
   "outputs": [],
   "source": [
    "import torch\n",
    "import torch.nn as nn\n",
    "import torch.optim as optim"
   ]
  },
  {
   "cell_type": "code",
   "execution_count": 3,
   "id": "c1e13217-1841-4a90-a707-629bfd2dbee8",
   "metadata": {},
   "outputs": [
    {
     "data": {
      "text/plain": [
       "torch.Size([11, 1])"
      ]
     },
     "execution_count": 3,
     "metadata": {},
     "output_type": "execute_result"
    }
   ],
   "source": [
    "t_c = [0.5, 14.0, 15.0, 28.0, 11.0, 8.0, 3.0,-4.0, 6.0, 13.0, 21.0]\n",
    "t_u = [35.7, 55.9, 58.2, 81.9, 56.3, 48.9, 33.9, 21.8, 48.4, 60.4, 68.4]\n",
    "t_c = torch.tensor(t_c).unsqueeze(1) \n",
    "t_u = torch.tensor(t_u).unsqueeze(1)\n",
    "\n",
    "t_u.shape"
   ]
  },
  {
   "cell_type": "code",
   "execution_count": 5,
   "id": "60d8786a-5d55-47a5-b0e0-a18f7f0794ec",
   "metadata": {},
   "outputs": [],
   "source": [
    "linear_model = nn.Linear(1,1)\n",
    "\n",
    "optimizer = optim.SGD(\n",
    "    linear_model.parameters(),\n",
    "    lr= 1e-2,\n",
    ")"
   ]
  },
  {
   "cell_type": "code",
   "execution_count": 6,
   "id": "9c9c933c-efa8-4c5b-ac4e-b9b924f0e6f4",
   "metadata": {},
   "outputs": [
    {
     "data": {
      "text/plain": [
       "<generator object Module.parameters at 0x7fc3a845a880>"
      ]
     },
     "execution_count": 6,
     "metadata": {},
     "output_type": "execute_result"
    }
   ],
   "source": [
    "linear_model.parameters()"
   ]
  },
  {
   "cell_type": "code",
   "execution_count": 7,
   "id": "e24e453c-b38c-4c8f-8615-d5897ccc008c",
   "metadata": {},
   "outputs": [
    {
     "data": {
      "text/plain": [
       "[Parameter containing:\n",
       " tensor([[0.9813]], requires_grad=True),\n",
       " Parameter containing:\n",
       " tensor([-0.8733], requires_grad=True)]"
      ]
     },
     "execution_count": 7,
     "metadata": {},
     "output_type": "execute_result"
    }
   ],
   "source": [
    "list(linear_model.parameters())"
   ]
  },
  {
   "cell_type": "code",
   "execution_count": null,
   "id": "a1593d5c-c8e8-4286-b6ba-51cbdc819c9d",
   "metadata": {},
   "outputs": [],
   "source": []
  }
 ],
 "metadata": {
  "kernelspec": {
   "display_name": "Python (rapids-24.10)",
   "language": "python",
   "name": "base"
  },
  "language_info": {
   "codemirror_mode": {
    "name": "ipython",
    "version": 3
   },
   "file_extension": ".py",
   "mimetype": "text/x-python",
   "name": "python",
   "nbconvert_exporter": "python",
   "pygments_lexer": "ipython3",
   "version": "3.10.15"
  }
 },
 "nbformat": 4,
 "nbformat_minor": 5
}
